{
 "cells": [
  {
   "cell_type": "code",
   "execution_count": null,
   "metadata": {
    "id": "DDHjthfvbeet"
   },
   "outputs": [],
   "source": [
    "\n"
   ]
  },
  {
   "cell_type": "code",
   "execution_count": 25,
   "metadata": {
    "colab": {
     "base_uri": "https://localhost:8080/"
    },
    "executionInfo": {
     "elapsed": 4031,
     "status": "ok",
     "timestamp": 1745786398017,
     "user": {
      "displayName": "Anika Kaur",
      "userId": "11571894223681248703"
     },
     "user_tz": 240
    },
    "id": "UUBs4Z7hb0b8",
    "outputId": "9a4748f0-65a4-44d0-bfc0-5a65b48d93fb"
   },
   "outputs": [
    {
     "name": "stdout",
     "output_type": "stream",
     "text": [
      "Requirement already satisfied: textblob in /usr/local/lib/python3.11/dist-packages (0.19.0)\n",
      "Requirement already satisfied: nltk>=3.9 in /usr/local/lib/python3.11/dist-packages (from textblob) (3.9.1)\n",
      "Requirement already satisfied: click in /usr/local/lib/python3.11/dist-packages (from nltk>=3.9->textblob) (8.1.8)\n",
      "Requirement already satisfied: joblib in /usr/local/lib/python3.11/dist-packages (from nltk>=3.9->textblob) (1.4.2)\n",
      "Requirement already satisfied: regex>=2021.8.3 in /usr/local/lib/python3.11/dist-packages (from nltk>=3.9->textblob) (2024.11.6)\n",
      "Requirement already satisfied: tqdm in /usr/local/lib/python3.11/dist-packages (from nltk>=3.9->textblob) (4.67.1)\n"
     ]
    }
   ],
   "source": [
    "!pip install textblob"
   ]
  },
  {
   "cell_type": "code",
   "execution_count": 26,
   "metadata": {
    "colab": {
     "base_uri": "https://localhost:8080/",
     "height": 73
    },
    "executionInfo": {
     "elapsed": 32569,
     "status": "ok",
     "timestamp": 1745786432188,
     "user": {
      "displayName": "Anika Kaur",
      "userId": "11571894223681248703"
     },
     "user_tz": 240
    },
    "id": "Dv4hhG7QuWTx",
    "outputId": "4661471d-fe03-4040-8c48-c96cea46a419"
   },
   "outputs": [
    {
     "data": {
      "text/html": [
       "\n",
       "     <input type=\"file\" id=\"files-3d4658ef-7d09-4a75-b429-9caa042aacaa\" name=\"files[]\" multiple disabled\n",
       "        style=\"border:none\" />\n",
       "     <output id=\"result-3d4658ef-7d09-4a75-b429-9caa042aacaa\">\n",
       "      Upload widget is only available when the cell has been executed in the\n",
       "      current browser session. Please rerun this cell to enable.\n",
       "      </output>\n",
       "      <script>// Copyright 2017 Google LLC\n",
       "//\n",
       "// Licensed under the Apache License, Version 2.0 (the \"License\");\n",
       "// you may not use this file except in compliance with the License.\n",
       "// You may obtain a copy of the License at\n",
       "//\n",
       "//      http://www.apache.org/licenses/LICENSE-2.0\n",
       "//\n",
       "// Unless required by applicable law or agreed to in writing, software\n",
       "// distributed under the License is distributed on an \"AS IS\" BASIS,\n",
       "// WITHOUT WARRANTIES OR CONDITIONS OF ANY KIND, either express or implied.\n",
       "// See the License for the specific language governing permissions and\n",
       "// limitations under the License.\n",
       "\n",
       "/**\n",
       " * @fileoverview Helpers for google.colab Python module.\n",
       " */\n",
       "(function(scope) {\n",
       "function span(text, styleAttributes = {}) {\n",
       "  const element = document.createElement('span');\n",
       "  element.textContent = text;\n",
       "  for (const key of Object.keys(styleAttributes)) {\n",
       "    element.style[key] = styleAttributes[key];\n",
       "  }\n",
       "  return element;\n",
       "}\n",
       "\n",
       "// Max number of bytes which will be uploaded at a time.\n",
       "const MAX_PAYLOAD_SIZE = 100 * 1024;\n",
       "\n",
       "function _uploadFiles(inputId, outputId) {\n",
       "  const steps = uploadFilesStep(inputId, outputId);\n",
       "  const outputElement = document.getElementById(outputId);\n",
       "  // Cache steps on the outputElement to make it available for the next call\n",
       "  // to uploadFilesContinue from Python.\n",
       "  outputElement.steps = steps;\n",
       "\n",
       "  return _uploadFilesContinue(outputId);\n",
       "}\n",
       "\n",
       "// This is roughly an async generator (not supported in the browser yet),\n",
       "// where there are multiple asynchronous steps and the Python side is going\n",
       "// to poll for completion of each step.\n",
       "// This uses a Promise to block the python side on completion of each step,\n",
       "// then passes the result of the previous step as the input to the next step.\n",
       "function _uploadFilesContinue(outputId) {\n",
       "  const outputElement = document.getElementById(outputId);\n",
       "  const steps = outputElement.steps;\n",
       "\n",
       "  const next = steps.next(outputElement.lastPromiseValue);\n",
       "  return Promise.resolve(next.value.promise).then((value) => {\n",
       "    // Cache the last promise value to make it available to the next\n",
       "    // step of the generator.\n",
       "    outputElement.lastPromiseValue = value;\n",
       "    return next.value.response;\n",
       "  });\n",
       "}\n",
       "\n",
       "/**\n",
       " * Generator function which is called between each async step of the upload\n",
       " * process.\n",
       " * @param {string} inputId Element ID of the input file picker element.\n",
       " * @param {string} outputId Element ID of the output display.\n",
       " * @return {!Iterable<!Object>} Iterable of next steps.\n",
       " */\n",
       "function* uploadFilesStep(inputId, outputId) {\n",
       "  const inputElement = document.getElementById(inputId);\n",
       "  inputElement.disabled = false;\n",
       "\n",
       "  const outputElement = document.getElementById(outputId);\n",
       "  outputElement.innerHTML = '';\n",
       "\n",
       "  const pickedPromise = new Promise((resolve) => {\n",
       "    inputElement.addEventListener('change', (e) => {\n",
       "      resolve(e.target.files);\n",
       "    });\n",
       "  });\n",
       "\n",
       "  const cancel = document.createElement('button');\n",
       "  inputElement.parentElement.appendChild(cancel);\n",
       "  cancel.textContent = 'Cancel upload';\n",
       "  const cancelPromise = new Promise((resolve) => {\n",
       "    cancel.onclick = () => {\n",
       "      resolve(null);\n",
       "    };\n",
       "  });\n",
       "\n",
       "  // Wait for the user to pick the files.\n",
       "  const files = yield {\n",
       "    promise: Promise.race([pickedPromise, cancelPromise]),\n",
       "    response: {\n",
       "      action: 'starting',\n",
       "    }\n",
       "  };\n",
       "\n",
       "  cancel.remove();\n",
       "\n",
       "  // Disable the input element since further picks are not allowed.\n",
       "  inputElement.disabled = true;\n",
       "\n",
       "  if (!files) {\n",
       "    return {\n",
       "      response: {\n",
       "        action: 'complete',\n",
       "      }\n",
       "    };\n",
       "  }\n",
       "\n",
       "  for (const file of files) {\n",
       "    const li = document.createElement('li');\n",
       "    li.append(span(file.name, {fontWeight: 'bold'}));\n",
       "    li.append(span(\n",
       "        `(${file.type || 'n/a'}) - ${file.size} bytes, ` +\n",
       "        `last modified: ${\n",
       "            file.lastModifiedDate ? file.lastModifiedDate.toLocaleDateString() :\n",
       "                                    'n/a'} - `));\n",
       "    const percent = span('0% done');\n",
       "    li.appendChild(percent);\n",
       "\n",
       "    outputElement.appendChild(li);\n",
       "\n",
       "    const fileDataPromise = new Promise((resolve) => {\n",
       "      const reader = new FileReader();\n",
       "      reader.onload = (e) => {\n",
       "        resolve(e.target.result);\n",
       "      };\n",
       "      reader.readAsArrayBuffer(file);\n",
       "    });\n",
       "    // Wait for the data to be ready.\n",
       "    let fileData = yield {\n",
       "      promise: fileDataPromise,\n",
       "      response: {\n",
       "        action: 'continue',\n",
       "      }\n",
       "    };\n",
       "\n",
       "    // Use a chunked sending to avoid message size limits. See b/62115660.\n",
       "    let position = 0;\n",
       "    do {\n",
       "      const length = Math.min(fileData.byteLength - position, MAX_PAYLOAD_SIZE);\n",
       "      const chunk = new Uint8Array(fileData, position, length);\n",
       "      position += length;\n",
       "\n",
       "      const base64 = btoa(String.fromCharCode.apply(null, chunk));\n",
       "      yield {\n",
       "        response: {\n",
       "          action: 'append',\n",
       "          file: file.name,\n",
       "          data: base64,\n",
       "        },\n",
       "      };\n",
       "\n",
       "      let percentDone = fileData.byteLength === 0 ?\n",
       "          100 :\n",
       "          Math.round((position / fileData.byteLength) * 100);\n",
       "      percent.textContent = `${percentDone}% done`;\n",
       "\n",
       "    } while (position < fileData.byteLength);\n",
       "  }\n",
       "\n",
       "  // All done.\n",
       "  yield {\n",
       "    response: {\n",
       "      action: 'complete',\n",
       "    }\n",
       "  };\n",
       "}\n",
       "\n",
       "scope.google = scope.google || {};\n",
       "scope.google.colab = scope.google.colab || {};\n",
       "scope.google.colab._files = {\n",
       "  _uploadFiles,\n",
       "  _uploadFilesContinue,\n",
       "};\n",
       "})(self);\n",
       "</script> "
      ],
      "text/plain": [
       "<IPython.core.display.HTML object>"
      ]
     },
     "metadata": {},
     "output_type": "display_data"
    },
    {
     "name": "stdout",
     "output_type": "stream",
     "text": [
      "Saving NeutralPolitics_data.csv to NeutralPolitics_data (2).csv\n"
     ]
    }
   ],
   "source": [
    "from google.colab import files\n",
    "uploaded = files.upload()\n"
   ]
  },
  {
   "cell_type": "code",
   "execution_count": 27,
   "metadata": {
    "colab": {
     "base_uri": "https://localhost:8080/"
    },
    "executionInfo": {
     "elapsed": 4,
     "status": "ok",
     "timestamp": 1745786434399,
     "user": {
      "displayName": "Anika Kaur",
      "userId": "11571894223681248703"
     },
     "user_tz": 240
    },
    "id": "PWy9mwjK62oH",
    "outputId": "6449e67a-873f-45e7-d651-f74c414ec380"
   },
   "outputs": [
    {
     "name": "stderr",
     "output_type": "stream",
     "text": [
      "[nltk_data] Downloading package punkt to /root/nltk_data...\n",
      "[nltk_data]   Package punkt is already up-to-date!\n"
     ]
    },
    {
     "data": {
      "text/plain": [
       "True"
      ]
     },
     "execution_count": 27,
     "metadata": {},
     "output_type": "execute_result"
    }
   ],
   "source": [
    "import nltk\n",
    "nltk.download('punkt')\n"
   ]
  },
  {
   "cell_type": "code",
   "execution_count": null,
   "metadata": {
    "executionInfo": {
     "elapsed": 47,
     "status": "ok",
     "timestamp": 1745786439340,
     "user": {
      "displayName": "Anika Kaur",
      "userId": "11571894223681248703"
     },
     "user_tz": 240
    },
    "id": "dhH2CuUyZnMi"
   },
   "outputs": [],
   "source": [
    "from textblob import TextBlob\n",
    "import pandas as pd\n",
    "\n",
    "df = pd.read_csv('../data/NeutralPolitics_data.csv')\n"
   ]
  },
  {
   "cell_type": "code",
   "execution_count": 29,
   "metadata": {
    "colab": {
     "base_uri": "https://localhost:8080/"
    },
    "executionInfo": {
     "elapsed": 4,
     "status": "ok",
     "timestamp": 1745786440734,
     "user": {
      "displayName": "Anika Kaur",
      "userId": "11571894223681248703"
     },
     "user_tz": 240
    },
    "id": "H2uxncz5Diyl",
    "outputId": "afa57b6c-45f0-455a-e9fc-655402860e88"
   },
   "outputs": [
    {
     "name": "stdout",
     "output_type": "stream",
     "text": [
      "['.config', 'NeutralPolitics_data (2).csv', 'NeutralPolitics_data (1).csv', 'NeutralPolitics_data.csv', 'sample_data']\n"
     ]
    }
   ],
   "source": [
    "import os\n",
    "print(os.listdir())"
   ]
  },
  {
   "cell_type": "markdown",
   "metadata": {
    "id": "BuuAyoKhclz3"
   },
   "source": []
  },
  {
   "cell_type": "code",
   "execution_count": 30,
   "metadata": {
    "colab": {
     "base_uri": "https://localhost:8080/"
    },
    "executionInfo": {
     "elapsed": 1499,
     "status": "ok",
     "timestamp": 1745786447296,
     "user": {
      "displayName": "Anika Kaur",
      "userId": "11571894223681248703"
     },
     "user_tz": 240
    },
    "id": "6H3NxtmFbkUL",
    "outputId": "470bfe09-4ac6-4a3a-9a4b-9b56bfd75e50"
   },
   "outputs": [
    {
     "name": "stdout",
     "output_type": "stream",
     "text": [
      "Neutral Politics average sentiment\n",
      "Negative   -0.029267\n",
      "Neutral     0.050000\n",
      "Positive    0.135218\n",
      "Name: polarity, dtype: float64\n",
      "Overall sentiment: Positive\n",
      "                                                Body  polarity sentiment\n",
      "0  EDIT:\\n\\nTo those joining us from r/all and r/...  0.119589  Positive\n",
      "1  ##**Due to the attention this topic has been g...  0.056119  Positive\n",
      "2  Hello and welcome to our first ever debate fac...  0.202431  Positive\n",
      "3  ##[This is the report.](https://www.justice.go... -0.061080  Negative\n",
      "4  [\"CNN and other news outlets were blocked Frid...  0.103725  Positive\n",
      "5  Per [this report](https://www.washingtonpost.c...  0.036905  Negative\n",
      "6  **[Link to full bill](https://housegop.leadpag...  0.121733  Positive\n",
      "7  The New York Times has gained access to an ema...  0.187410  Positive\n",
      "8  Tuesday, November 6, 2018 is the day of the [m... -0.011607  Negative\n",
      "9  Tonight [President Trump fired FBI director Ja...  0.046050  Negative\n"
     ]
    }
   ],
   "source": [
    "def analyze_sentiment(text):\n",
    "  #convert everything to string so it can be processed\n",
    "  text = str(text)\n",
    "  blob = TextBlob(text)\n",
    "  polarity = blob.sentiment.polarity\n",
    "\n",
    "\n",
    "  #values for whether classified as positive or negative\n",
    "  sentiment = \"Positive\" if polarity > .05 else \"Negative\" if polarity < .05 else \"Neutral\"\n",
    "\n",
    "  return {\n",
    "      #determine polarity and sentiment of each\n",
    "      'polarity' : polarity,\n",
    "      'sentiment' : sentiment\n",
    "  }\n",
    "  #organize results\n",
    "\n",
    "result = df['Body'].apply(analyze_sentiment)\n",
    "sentiment_df = pd.json_normalize(result)\n",
    "df = pd.concat([df, sentiment_df], axis = 1)\n",
    "\n",
    "df['Body'] = df['Body'].fillna(\"\")\n",
    "\n",
    "avg_sentiment = df.groupby('sentiment')['polarity'].mean()\n",
    "avg_neutral = df.groupby('sentiment')['polarity'].mean()\n",
    "overall_sentiment = df['sentiment'].value_counts().idxmax()\n",
    "\n",
    "\n",
    "print('Neutral Politics average' , avg_sentiment)\n",
    "print(\"Overall sentiment:\" , overall_sentiment)\n",
    "print(df[['Body', 'polarity', 'sentiment']].head(10))\n"
   ]
  },
  {
   "cell_type": "markdown",
   "metadata": {
    "id": "ydR5iijhoFpg"
   },
   "source": []
  },
  {
   "cell_type": "code",
   "execution_count": 7,
   "metadata": {
    "colab": {
     "base_uri": "https://localhost:8080/"
    },
    "executionInfo": {
     "elapsed": 49,
     "status": "ok",
     "timestamp": 1745784960548,
     "user": {
      "displayName": "Anika Kaur",
      "userId": "11571894223681248703"
     },
     "user_tz": 240
    },
    "id": "ZsH7zMKMuWbi",
    "outputId": "8114342e-ba42-4bfe-b597-a10a4b83bd63"
   },
   "outputs": [
    {
     "name": "stdout",
     "output_type": "stream",
     "text": [
      "   polarity sentiment\n",
      "0  0.119589  Positive\n",
      "1  0.056119  Positive\n",
      "2  0.202431  Positive\n",
      "3 -0.061080  Negative\n",
      "4  0.103725  Positive\n",
      "5  0.036905  Negative\n",
      "6  0.121733  Positive\n",
      "7  0.187410  Positive\n",
      "8 -0.011607  Negative\n",
      "9  0.046050  Negative\n"
     ]
    }
   ],
   "source": [
    "print(df[['polarity', 'sentiment']].head(10))\n"
   ]
  },
  {
   "cell_type": "code",
   "execution_count": 8,
   "metadata": {
    "colab": {
     "base_uri": "https://localhost:8080/",
     "height": 579
    },
    "executionInfo": {
     "elapsed": 1213,
     "status": "ok",
     "timestamp": 1745784965417,
     "user": {
      "displayName": "Anika Kaur",
      "userId": "11571894223681248703"
     },
     "user_tz": 240
    },
    "id": "_fMp15X2oGi5",
    "outputId": "917af17d-bb6a-436d-c77e-67bdc1b40f15"
   },
   "outputs": [
    {
     "name": "stderr",
     "output_type": "stream",
     "text": [
      "<ipython-input-8-6f172578a7ef>:5: FutureWarning: \n",
      "\n",
      "Passing `palette` without assigning `hue` is deprecated and will be removed in v0.14.0. Assign the `x` variable to `hue` and set `legend=False` for the same effect.\n",
      "\n",
      "  sns.violinplot(x = 'sentiment', y = 'polarity', data = df,palette = \"coolwarm\")\n"
     ]
    },
    {
     "data": {
      "image/png": "[encoded data removed]",
      "text/plain": [
       "<Figure size 640x480 with 1 Axes>"
      ]
     },
     "metadata": {},
     "output_type": "display_data"
    }
   ],
   "source": [
    "import seaborn as sns\n",
    "import matplotlib.pyplot as plt\n",
    "\n",
    "#violinplot shows how polarity varies in each sentiment category\n",
    "sns.violinplot(x = 'sentiment', y = 'polarity', data = df,palette = \"coolwarm\")\n",
    "plt.title('Polarity Distribution by Sentiment')\n",
    "plt.xlabel('Sentiment')\n",
    "plt.ylabel('Polarity Score')\n",
    "plt.ylim(-1, 1)\n",
    "plt.axhline(0, color='gray', linestyle='--', linewidth=1)\n",
    "plt.show()"
   ]
  },
  {
   "cell_type": "code",
   "execution_count": 9,
   "metadata": {
    "colab": {
     "base_uri": "https://localhost:8080/",
     "height": 579
    },
    "executionInfo": {
     "elapsed": 252,
     "status": "ok",
     "timestamp": 1745784973159,
     "user": {
      "displayName": "Anika Kaur",
      "userId": "11571894223681248703"
     },
     "user_tz": 240
    },
    "id": "l9ctDpF8t-uy",
    "outputId": "b601b14d-55ca-46d9-e69b-c5268e3ff997"
   },
   "outputs": [
    {
     "name": "stderr",
     "output_type": "stream",
     "text": [
      "<ipython-input-9-1996c496c2af>:12: FutureWarning: \n",
      "\n",
      "Passing `palette` without assigning `hue` is deprecated and will be removed in v0.14.0. Assign the `x` variable to `hue` and set `legend=False` for the same effect.\n",
      "\n",
      "  sns.barplot(x='sentiment', y='Upvotes', data=upvotes_df, palette='coolwarm')\n"
     ]
    },
    {
     "data": {
      "image/png": "[encoded data removed]",
      "text/plain": [
       "<Figure size 640x480 with 1 Axes>"
      ]
     },
     "metadata": {},
     "output_type": "display_data"
    }
   ],
   "source": [
    "import seaborn as sns\n",
    "import matplotlib.pyplot as plt\n",
    "\n",
    "#bar chart shows how many upvotes each kind of sentiment gets\n",
    "\n",
    "upvotes = df.groupby('sentiment')['Upvotes'].sum().sort_values(ascending=False)\n",
    "\n",
    "# convert the 'upvotes' Series into a DataFrame to be used in sns.barplot\n",
    "upvotes_df = upvotes.reset_index()\n",
    "\n",
    "#  use the DataFrame in sns.barplot\n",
    "sns.barplot(x='sentiment', y='Upvotes', data=upvotes_df, palette='coolwarm')\n",
    "\n",
    "plt.title('Total Upvotes by Sentiment for Neutral Politics')\n",
    "plt.xlabel('Sentiment')\n",
    "plt.ylabel('Total Upvotes')\n",
    "plt.show()\n",
    "\n"
   ]
  },
  {
   "cell_type": "code",
   "execution_count": 11,
   "metadata": {
    "colab": {
     "base_uri": "https://localhost:8080/",
     "height": 472
    },
    "executionInfo": {
     "elapsed": 1409,
     "status": "ok",
     "timestamp": 1745785039137,
     "user": {
      "displayName": "Anika Kaur",
      "userId": "11571894223681248703"
     },
     "user_tz": 240
    },
    "id": "RscgFGj7bonD",
    "outputId": "336e68aa-6320-4a99-e175-701379a3f641"
   },
   "outputs": [
    {
     "data": {
      "image/png": "[encoded data removed]",
      "text/plain": [
       "<Figure size 640x480 with 1 Axes>"
      ]
     },
     "metadata": {},
     "output_type": "display_data"
    }
   ],
   "source": [
    "sns.histplot(df['polarity'], bins=30, kde=True, color='salmon')\n",
    "plt.title('Distribution of TextBlob Polarity Scores in Neutral Politics')\n",
    "plt.xlabel('Polarity Score')\n",
    "plt.ylabel('Post Count')\n",
    "plt.axvline(0, color='black', linestyle='--')\n",
    "plt.show()\n"
   ]
  },
  {
   "cell_type": "markdown",
   "metadata": {
    "id": "Fh-WIZZ6C85y"
   },
   "source": []
  }
 ],
 "metadata": {
  "colab": {
   "provenance": [
    {
     "file_id": "1-fzly9Ijnb0Lu5vsWWUq7mxjnWRXMTlR",
     "timestamp": 1745262317774
    },
    {
     "file_id": "1Qxxsm0b2TG9EHf2U1R4jxrHp2_KFsAYF",
     "timestamp": 1745262005595
    }
   ]
  },
  "kernelspec": {
   "display_name": "Python 3",
   "name": "python3"
  },
  "language_info": {
   "name": "python"
  }
 },
 "nbformat": 4,
 "nbformat_minor": 0
}
